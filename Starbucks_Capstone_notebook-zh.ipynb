{
 "cells": [
  {
   "cell_type": "markdown",
   "metadata": {},
   "source": [
    "# 星巴克毕业项目\n",
    "\n",
    "### 简介\n",
    "\n",
    "这个数据集是一些模拟 Starbucks rewards 移动 app 上用户行为的数据。每隔几天，星巴克会向 app 的用户发送一些推送。这个推送可能仅仅是一条饮品的广告或者是折扣券或 BOGO（买一送一）。一些顾客可能一连几周都收不到任何推送。 \n",
    "\n",
    "顾客收到的推送可能是不同的，这就是这个数据集的挑战所在。\n",
    "\n",
    "你的任务是将交易数据、人口统计数据和推送数据结合起来判断哪一类人群会受到某种推送的影响。这个数据集是从星巴克 app 的真实数据简化而来。因为下面的这个模拟器仅产生了一种饮品， 实际上星巴克的饮品有几十种。\n",
    "\n",
    "每种推送都有有效期。例如，买一送一（BOGO）优惠券推送的有效期可能只有 5 天。你会发现数据集中即使是一些消息型的推送都有有效期，哪怕这些推送仅仅是饮品的广告，例如，如果一条消息型推送的有效期是 7 天，你可以认为是该顾客在这 7 天都可能受到这条推送的影响。\n",
    "\n",
    "数据集中还包含 app 上支付的交易信息，交易信息包括购买时间和购买支付的金额。交易信息还包括该顾客收到的推送种类和数量以及看了该推送的时间。顾客做出了购买行为也会产生一条记录。 \n",
    "\n",
    "同样需要记住有可能顾客购买了商品，但没有收到或者没有看推送。\n",
    "\n",
    "### 示例\n",
    "\n",
    "举个例子，一个顾客在周一收到了满 10 美元减 2 美元的优惠券推送。这个推送的有效期从收到日算起一共 10 天。如果该顾客在有效日期内的消费累计达到了 10 美元，该顾客就满足了该推送的要求。\n",
    "\n",
    "然而，这个数据集里有一些地方需要注意。即，这个推送是自动生效的；也就是说，顾客收到推送后，哪怕没有看到，满足了条件，推送的优惠依然能够生效。比如，一个顾客收到了\"满10美元减2美元优惠券\"的推送，但是该用户在 10 天有效期内从来没有打开看到过它。该顾客在 10 天内累计消费了 15 美元。数据集也会记录他满足了推送的要求，然而，这个顾客并没被受到这个推送的影响，因为他并不知道它的存在。\n",
    "\n",
    "### 清洗\n",
    "\n",
    "清洗数据非常重要也非常需要技巧。\n",
    "\n",
    "你也要考虑到某类人群即使没有收到推送，也会购买的情况。从商业角度出发，如果顾客无论是否收到推送都打算花 10 美元，你并不希望给他发送满 10 美元减 2 美元的优惠券推送。所以你可能需要分析某类人群在没有任何推送的情况下会购买什么。\n",
    "\n",
    "### 最后一项建议\n",
    "\n",
    "因为这是一个毕业项目，你可以使用任何你认为合适的方法来分析数据。例如，你可以搭建一个机器学习模型来根据人口统计数据和推送的种类来预测某人会花费多少钱。或者，你也可以搭建一个模型来预测该顾客是否会对推送做出反应。或者，你也可以完全不用搭建机器学习模型。你可以开发一套启发式算法来决定你会给每个顾客发出什么样的消息（比如75% 的35 岁女性用户会对推送 A 做出反应，对推送 B 则只有 40% 会做出反应，那么应该向她们发送推送 A）。\n",
    "\n",
    "\n",
    "# 数据集\n",
    "\n",
    "一共有三个数据文件：\n",
    "\n",
    "* portfolio.json – 包括推送的 id 和每个推送的元数据（持续时间、种类等等）\n",
    "* profile.json – 每个顾客的人口统计数据\n",
    "* transcript.json – 交易、收到的推送、查看的推送和完成的推送的记录\n",
    "\n",
    "以下是文件中每个变量的类型和解释 ：\n",
    "\n",
    "**portfolio.json**\n",
    "* id (string) – 推送的id\n",
    "* offer_type (string) – 推送的种类，例如 BOGO、打折（discount）、信息（informational）\n",
    "* difficulty (int) – 满足推送的要求所需的最少花费\n",
    "* reward (int) – 满足推送的要求后给与的优惠\n",
    "* duration (int) – 推送持续的时间，单位是天\n",
    "* channels (字符串列表)\n",
    "\n",
    "**profile.json**\n",
    "* age (int) – 顾客的年龄 \n",
    "* became_member_on (int) – 该顾客第一次注册app的时间\n",
    "* gender (str) – 顾客的性别（注意除了表示男性的 M 和表示女性的 F 之外，还有表示其他的 O）\n",
    "* id (str) – 顾客id\n",
    "* income (float) – 顾客的收入\n",
    "\n",
    "**transcript.json**\n",
    "* event (str) – 记录的描述（比如交易记录、推送已收到、推送已阅）\n",
    "* person (str) – 顾客id\n",
    "* time (int) – 单位是小时，测试开始时计时。该数据从时间点 t=0 开始\n",
    "* value - (dict of strings) – 推送的id 或者交易的数额\n",
    "\n",
    "**注意：**如果你正在使用 Workspace，在读取文件前，你需要打开终端/命令行，运行命令 `conda update pandas` 。因为 Workspace 中的 pandas 版本不能正确读入 transcript.json 文件的内容，所以需要更新到 pandas 的最新版本。你可以单击 notebook 左上角橘黄色的 jupyter 图标来打开终端/命令行。  \n",
    "\n",
    "下面两张图展示了如何打开终端/命令行以及如何安装更新。首先打开终端/命令行：\n",
    "<img src=\"pic1.png\"/>\n",
    "\n",
    "然后运行上面的命令：\n",
    "<img src=\"pic2.png\"/>\n",
    "\n",
    "最后回到这个 notebook（还是点击橘黄色的 jupyter 图标），再次运行下面的单元格就不会报错了。"
   ]
  },
  {
   "cell_type": "markdown",
   "metadata": {},
   "source": [
    "# 项目目标：搭建一个模型来预测该顾客是否会对推送做出反应"
   ]
  },
  {
   "cell_type": "code",
   "execution_count": 1,
   "metadata": {},
   "outputs": [],
   "source": [
    "import matplotlib.pyplot as plt\n",
    "from datetime import datetime"
   ]
  },
  {
   "cell_type": "code",
   "execution_count": 2,
   "metadata": {},
   "outputs": [],
   "source": [
    "import pandas as pd\n",
    "import numpy as np\n",
    "import math\n",
    "import json\n",
    "% matplotlib inline\n",
    "\n",
    "# read in the json files\n",
    "df_portfolio = pd.read_json('data/portfolio.json', orient='records', lines=True)\n",
    "df_profile = pd.read_json('data/profile.json', orient='records', lines=True)\n",
    "df_transcript = pd.read_json('data/transcript.json', orient='records', lines=True)"
   ]
  },
  {
   "cell_type": "markdown",
   "metadata": {},
   "source": [
    "Step1 - 观察数据"
   ]
  },
  {
   "cell_type": "code",
   "execution_count": 3,
   "metadata": {},
   "outputs": [
    {
     "data": {
      "text/html": [
       "<div>\n",
       "<style scoped>\n",
       "    .dataframe tbody tr th:only-of-type {\n",
       "        vertical-align: middle;\n",
       "    }\n",
       "\n",
       "    .dataframe tbody tr th {\n",
       "        vertical-align: top;\n",
       "    }\n",
       "\n",
       "    .dataframe thead th {\n",
       "        text-align: right;\n",
       "    }\n",
       "</style>\n",
       "<table border=\"1\" class=\"dataframe\">\n",
       "  <thead>\n",
       "    <tr style=\"text-align: right;\">\n",
       "      <th></th>\n",
       "      <th>channels</th>\n",
       "      <th>difficulty</th>\n",
       "      <th>duration</th>\n",
       "      <th>id</th>\n",
       "      <th>offer_type</th>\n",
       "      <th>reward</th>\n",
       "    </tr>\n",
       "  </thead>\n",
       "  <tbody>\n",
       "    <tr>\n",
       "      <th>0</th>\n",
       "      <td>[email, mobile, social]</td>\n",
       "      <td>10</td>\n",
       "      <td>7</td>\n",
       "      <td>ae264e3637204a6fb9bb56bc8210ddfd</td>\n",
       "      <td>bogo</td>\n",
       "      <td>10</td>\n",
       "    </tr>\n",
       "    <tr>\n",
       "      <th>1</th>\n",
       "      <td>[web, email, mobile, social]</td>\n",
       "      <td>10</td>\n",
       "      <td>5</td>\n",
       "      <td>4d5c57ea9a6940dd891ad53e9dbe8da0</td>\n",
       "      <td>bogo</td>\n",
       "      <td>10</td>\n",
       "    </tr>\n",
       "  </tbody>\n",
       "</table>\n",
       "</div>"
      ],
      "text/plain": [
       "                       channels  difficulty  duration  \\\n",
       "0       [email, mobile, social]          10         7   \n",
       "1  [web, email, mobile, social]          10         5   \n",
       "\n",
       "                                 id offer_type  reward  \n",
       "0  ae264e3637204a6fb9bb56bc8210ddfd       bogo      10  \n",
       "1  4d5c57ea9a6940dd891ad53e9dbe8da0       bogo      10  "
      ]
     },
     "execution_count": 3,
     "metadata": {},
     "output_type": "execute_result"
    }
   ],
   "source": [
    "#Observe portfolio data\n",
    "df_portfolio.head(2)"
   ]
  },
  {
   "cell_type": "code",
   "execution_count": 4,
   "metadata": {},
   "outputs": [
    {
     "data": {
      "text/html": [
       "<div>\n",
       "<style scoped>\n",
       "    .dataframe tbody tr th:only-of-type {\n",
       "        vertical-align: middle;\n",
       "    }\n",
       "\n",
       "    .dataframe tbody tr th {\n",
       "        vertical-align: top;\n",
       "    }\n",
       "\n",
       "    .dataframe thead th {\n",
       "        text-align: right;\n",
       "    }\n",
       "</style>\n",
       "<table border=\"1\" class=\"dataframe\">\n",
       "  <thead>\n",
       "    <tr style=\"text-align: right;\">\n",
       "      <th></th>\n",
       "      <th>difficulty</th>\n",
       "      <th>duration</th>\n",
       "      <th>reward</th>\n",
       "    </tr>\n",
       "  </thead>\n",
       "  <tbody>\n",
       "    <tr>\n",
       "      <th>count</th>\n",
       "      <td>10</td>\n",
       "      <td>10</td>\n",
       "      <td>10</td>\n",
       "    </tr>\n",
       "    <tr>\n",
       "      <th>mean</th>\n",
       "      <td>8</td>\n",
       "      <td>6</td>\n",
       "      <td>4</td>\n",
       "    </tr>\n",
       "    <tr>\n",
       "      <th>std</th>\n",
       "      <td>6</td>\n",
       "      <td>2</td>\n",
       "      <td>4</td>\n",
       "    </tr>\n",
       "    <tr>\n",
       "      <th>min</th>\n",
       "      <td>0</td>\n",
       "      <td>3</td>\n",
       "      <td>0</td>\n",
       "    </tr>\n",
       "    <tr>\n",
       "      <th>25%</th>\n",
       "      <td>5</td>\n",
       "      <td>5</td>\n",
       "      <td>2</td>\n",
       "    </tr>\n",
       "    <tr>\n",
       "      <th>50%</th>\n",
       "      <td>8</td>\n",
       "      <td>7</td>\n",
       "      <td>4</td>\n",
       "    </tr>\n",
       "    <tr>\n",
       "      <th>75%</th>\n",
       "      <td>10</td>\n",
       "      <td>7</td>\n",
       "      <td>5</td>\n",
       "    </tr>\n",
       "    <tr>\n",
       "      <th>max</th>\n",
       "      <td>20</td>\n",
       "      <td>10</td>\n",
       "      <td>10</td>\n",
       "    </tr>\n",
       "  </tbody>\n",
       "</table>\n",
       "</div>"
      ],
      "text/plain": [
       "      difficulty duration reward\n",
       "count         10       10     10\n",
       "mean           8        6      4\n",
       "std            6        2      4\n",
       "min            0        3      0\n",
       "25%            5        5      2\n",
       "50%            8        7      4\n",
       "75%           10        7      5\n",
       "max           20       10     10"
      ]
     },
     "execution_count": 4,
     "metadata": {},
     "output_type": "execute_result"
    }
   ],
   "source": [
    "df_portfolio.describe().applymap(lambda x:'%.0f' % x)"
   ]
  },
  {
   "cell_type": "code",
   "execution_count": 5,
   "metadata": {},
   "outputs": [
    {
     "data": {
      "text/plain": [
       "offer_type\n",
       "bogo             0.4\n",
       "discount         0.4\n",
       "informational    0.2\n",
       "Name: id, dtype: float64"
      ]
     },
     "execution_count": 5,
     "metadata": {},
     "output_type": "execute_result"
    }
   ],
   "source": [
    "portfolio_groupby_type = df_portfolio.groupby('offer_type')['id'].count()/df_portfolio.id.count()\n",
    "portfolio_groupby_type"
   ]
  },
  {
   "cell_type": "code",
   "execution_count": 6,
   "metadata": {},
   "outputs": [
    {
     "data": {
      "text/html": [
       "<div>\n",
       "<style scoped>\n",
       "    .dataframe tbody tr th:only-of-type {\n",
       "        vertical-align: middle;\n",
       "    }\n",
       "\n",
       "    .dataframe tbody tr th {\n",
       "        vertical-align: top;\n",
       "    }\n",
       "\n",
       "    .dataframe thead th {\n",
       "        text-align: right;\n",
       "    }\n",
       "</style>\n",
       "<table border=\"1\" class=\"dataframe\">\n",
       "  <thead>\n",
       "    <tr style=\"text-align: right;\">\n",
       "      <th></th>\n",
       "      <th>age</th>\n",
       "      <th>became_member_on</th>\n",
       "      <th>gender</th>\n",
       "      <th>id</th>\n",
       "      <th>income</th>\n",
       "    </tr>\n",
       "  </thead>\n",
       "  <tbody>\n",
       "    <tr>\n",
       "      <th>0</th>\n",
       "      <td>118</td>\n",
       "      <td>20170212</td>\n",
       "      <td>None</td>\n",
       "      <td>68be06ca386d4c31939f3a4f0e3dd783</td>\n",
       "      <td>NaN</td>\n",
       "    </tr>\n",
       "    <tr>\n",
       "      <th>1</th>\n",
       "      <td>55</td>\n",
       "      <td>20170715</td>\n",
       "      <td>F</td>\n",
       "      <td>0610b486422d4921ae7d2bf64640c50b</td>\n",
       "      <td>112000.0</td>\n",
       "    </tr>\n",
       "  </tbody>\n",
       "</table>\n",
       "</div>"
      ],
      "text/plain": [
       "   age  became_member_on gender                                id    income\n",
       "0  118          20170212   None  68be06ca386d4c31939f3a4f0e3dd783       NaN\n",
       "1   55          20170715      F  0610b486422d4921ae7d2bf64640c50b  112000.0"
      ]
     },
     "execution_count": 6,
     "metadata": {},
     "output_type": "execute_result"
    }
   ],
   "source": [
    "# Observe profile data\n",
    "df_profile.head(2)"
   ]
  },
  {
   "cell_type": "code",
   "execution_count": 7,
   "metadata": {},
   "outputs": [],
   "source": [
    "#calculate member_days to present customer loyalty\n",
    "#fix current date (reporting date): 2020/7/20\n",
    "reporting_date=datetime.strptime('2020/07/20', '%Y/%m/%d')\n",
    "df_profile['became_member_on']=df_profile.became_member_on.apply(lambda x: datetime.strptime(str(x).split(' ')[0].replace('-',''),'%Y%m%d'))\n",
    "df_profile['member_days']=df_profile['became_member_on'].apply(lambda x: (reporting_date - x).days)"
   ]
  },
  {
   "cell_type": "code",
   "execution_count": 8,
   "metadata": {},
   "outputs": [
    {
     "data": {
      "text/html": [
       "<div>\n",
       "<style scoped>\n",
       "    .dataframe tbody tr th:only-of-type {\n",
       "        vertical-align: middle;\n",
       "    }\n",
       "\n",
       "    .dataframe tbody tr th {\n",
       "        vertical-align: top;\n",
       "    }\n",
       "\n",
       "    .dataframe thead th {\n",
       "        text-align: right;\n",
       "    }\n",
       "</style>\n",
       "<table border=\"1\" class=\"dataframe\">\n",
       "  <thead>\n",
       "    <tr style=\"text-align: right;\">\n",
       "      <th></th>\n",
       "      <th>age</th>\n",
       "      <th>became_member_on</th>\n",
       "      <th>gender</th>\n",
       "      <th>id</th>\n",
       "      <th>income</th>\n",
       "      <th>member_days</th>\n",
       "    </tr>\n",
       "  </thead>\n",
       "  <tbody>\n",
       "    <tr>\n",
       "      <th>0</th>\n",
       "      <td>118</td>\n",
       "      <td>2017-02-12</td>\n",
       "      <td>None</td>\n",
       "      <td>68be06ca386d4c31939f3a4f0e3dd783</td>\n",
       "      <td>NaN</td>\n",
       "      <td>1254</td>\n",
       "    </tr>\n",
       "    <tr>\n",
       "      <th>1</th>\n",
       "      <td>55</td>\n",
       "      <td>2017-07-15</td>\n",
       "      <td>F</td>\n",
       "      <td>0610b486422d4921ae7d2bf64640c50b</td>\n",
       "      <td>112000.0</td>\n",
       "      <td>1101</td>\n",
       "    </tr>\n",
       "  </tbody>\n",
       "</table>\n",
       "</div>"
      ],
      "text/plain": [
       "   age became_member_on gender                                id    income  \\\n",
       "0  118       2017-02-12   None  68be06ca386d4c31939f3a4f0e3dd783       NaN   \n",
       "1   55       2017-07-15      F  0610b486422d4921ae7d2bf64640c50b  112000.0   \n",
       "\n",
       "   member_days  \n",
       "0         1254  \n",
       "1         1101  "
      ]
     },
     "execution_count": 8,
     "metadata": {},
     "output_type": "execute_result"
    }
   ],
   "source": [
    "df_profile.head(2)"
   ]
  },
  {
   "cell_type": "code",
   "execution_count": 9,
   "metadata": {},
   "outputs": [
    {
     "name": "stdout",
     "output_type": "stream",
     "text": [
      "<class 'pandas.core.frame.DataFrame'>\n",
      "RangeIndex: 17000 entries, 0 to 16999\n",
      "Data columns (total 6 columns):\n",
      "age                 17000 non-null int64\n",
      "became_member_on    17000 non-null datetime64[ns]\n",
      "gender              14825 non-null object\n",
      "id                  17000 non-null object\n",
      "income              14825 non-null float64\n",
      "member_days         17000 non-null int64\n",
      "dtypes: datetime64[ns](1), float64(1), int64(2), object(2)\n",
      "memory usage: 797.0+ KB\n"
     ]
    }
   ],
   "source": [
    "df_profile.info()"
   ]
  },
  {
   "cell_type": "code",
   "execution_count": 10,
   "metadata": {},
   "outputs": [
    {
     "data": {
      "text/html": [
       "<div>\n",
       "<style scoped>\n",
       "    .dataframe tbody tr th:only-of-type {\n",
       "        vertical-align: middle;\n",
       "    }\n",
       "\n",
       "    .dataframe tbody tr th {\n",
       "        vertical-align: top;\n",
       "    }\n",
       "\n",
       "    .dataframe thead th {\n",
       "        text-align: right;\n",
       "    }\n",
       "</style>\n",
       "<table border=\"1\" class=\"dataframe\">\n",
       "  <thead>\n",
       "    <tr style=\"text-align: right;\">\n",
       "      <th></th>\n",
       "      <th>age</th>\n",
       "      <th>income</th>\n",
       "      <th>member_days</th>\n",
       "    </tr>\n",
       "  </thead>\n",
       "  <tbody>\n",
       "    <tr>\n",
       "      <th>count</th>\n",
       "      <td>17000</td>\n",
       "      <td>14825</td>\n",
       "      <td>17000</td>\n",
       "    </tr>\n",
       "    <tr>\n",
       "      <th>mean</th>\n",
       "      <td>63</td>\n",
       "      <td>65405</td>\n",
       "      <td>1242</td>\n",
       "    </tr>\n",
       "    <tr>\n",
       "      <th>std</th>\n",
       "      <td>27</td>\n",
       "      <td>21598</td>\n",
       "      <td>411</td>\n",
       "    </tr>\n",
       "    <tr>\n",
       "      <th>min</th>\n",
       "      <td>18</td>\n",
       "      <td>30000</td>\n",
       "      <td>725</td>\n",
       "    </tr>\n",
       "    <tr>\n",
       "      <th>25%</th>\n",
       "      <td>45</td>\n",
       "      <td>49000</td>\n",
       "      <td>933</td>\n",
       "    </tr>\n",
       "    <tr>\n",
       "      <th>50%</th>\n",
       "      <td>58</td>\n",
       "      <td>64000</td>\n",
       "      <td>1083</td>\n",
       "    </tr>\n",
       "    <tr>\n",
       "      <th>75%</th>\n",
       "      <td>73</td>\n",
       "      <td>80000</td>\n",
       "      <td>1516</td>\n",
       "    </tr>\n",
       "    <tr>\n",
       "      <th>max</th>\n",
       "      <td>118</td>\n",
       "      <td>120000</td>\n",
       "      <td>2548</td>\n",
       "    </tr>\n",
       "  </tbody>\n",
       "</table>\n",
       "</div>"
      ],
      "text/plain": [
       "         age  income member_days\n",
       "count  17000   14825       17000\n",
       "mean      63   65405        1242\n",
       "std       27   21598         411\n",
       "min       18   30000         725\n",
       "25%       45   49000         933\n",
       "50%       58   64000        1083\n",
       "75%       73   80000        1516\n",
       "max      118  120000        2548"
      ]
     },
     "execution_count": 10,
     "metadata": {},
     "output_type": "execute_result"
    }
   ],
   "source": [
    "df_profile.describe().applymap(lambda x:'%.0f' % x)"
   ]
  },
  {
   "cell_type": "code",
   "execution_count": 11,
   "metadata": {},
   "outputs": [
    {
     "data": {
      "image/png": "[encoded data removed]",
      "text/plain": [
       "<matplotlib.figure.Figure at 0x7f5e2a5d4ba8>"
      ]
     },
     "metadata": {
      "needs_background": "light"
     },
     "output_type": "display_data"
    }
   ],
   "source": [
    "# distribution by age\n",
    "y = df_profile.age.dropna().tolist()\n",
    "plt.hist(y,bins=np.arange(15,125,5))\n",
    "plt.xlabel('age')\n",
    "plt.ylabel('counts')\n",
    "plt.title('Distribution of Age of '+str(len(y))+' customer')\n",
    "plt.show()"
   ]
  },
  {
   "cell_type": "code",
   "execution_count": 12,
   "metadata": {},
   "outputs": [
    {
     "data": {
      "image/png": "[encoded data removed]",
      "text/plain": [
       "<matplotlib.figure.Figure at 0x7f5e2a5d4e48>"
      ]
     },
     "metadata": {
      "needs_background": "light"
     },
     "output_type": "display_data"
    }
   ],
   "source": [
    "# distribution by customer incomes\n",
    "y = df_profile.income.dropna().tolist()\n",
    "plt.hist(y,bins=np.arange(28000,120000,1000))\n",
    "plt.xlabel('income')\n",
    "plt.ylabel('counts')\n",
    "plt.title('Distribution of income of '+str(len(y))+' customer')\n",
    "plt.show()"
   ]
  },
  {
   "cell_type": "code",
   "execution_count": 13,
   "metadata": {},
   "outputs": [
    {
     "data": {
      "image/png": "[encoded data removed]",
      "text/plain": [
       "<matplotlib.figure.Figure at 0x7f5e2a5f77f0>"
      ]
     },
     "metadata": {
      "needs_background": "light"
     },
     "output_type": "display_data"
    }
   ],
   "source": [
    "# distribution by customer member days\n",
    "y = df_profile.member_days.dropna().tolist()\n",
    "plt.hist(y,bins=np.arange(700,2700,50))\n",
    "plt.xlabel('member_days')\n",
    "plt.ylabel('counts')\n",
    "plt.title('Distribution of member days of '+str(len(y))+' customer')\n",
    "plt.show()"
   ]
  },
  {
   "cell_type": "code",
   "execution_count": 14,
   "metadata": {},
   "outputs": [
    {
     "name": "stdout",
     "output_type": "stream",
     "text": [
      "In Profile Dataset is customer information unique?：True\n",
      "There are 2175 customer more than 110 years old\n",
      "There are 2175 customer not register incomes\n"
     ]
    }
   ],
   "source": [
    "# abnormal data\n",
    "print('In Profile Dataset is customer information unique?：{}'.format(df_profile.shape[0]==len(df_profile.id.unique())))\n",
    "print('There are {} customer more than 110 years old'.format(len(np.where(df_profile['age']>110)[0])))\n",
    "print('There are {} customer not register incomes'.format(df_profile.id.count()-df_profile.income.dropna().count()))"
   ]
  },
  {
   "cell_type": "code",
   "execution_count": 15,
   "metadata": {},
   "outputs": [],
   "source": [
    "# delete records which has income = nan or its customer age > 110\n",
    "df_profile['age'] = np.where(df_profile['age']>110, np.nan, 1)\n",
    "df_profile = df_profile.dropna(axis=0,how='any')"
   ]
  },
  {
   "cell_type": "code",
   "execution_count": 16,
   "metadata": {},
   "outputs": [
    {
     "data": {
      "text/plain": [
       "True"
      ]
     },
     "execution_count": 16,
     "metadata": {},
     "output_type": "execute_result"
    }
   ],
   "source": [
    "df_profile.id.count() == 17000-2175"
   ]
  },
  {
   "cell_type": "code",
   "execution_count": 17,
   "metadata": {},
   "outputs": [
    {
     "data": {
      "text/html": [
       "<div>\n",
       "<style scoped>\n",
       "    .dataframe tbody tr th:only-of-type {\n",
       "        vertical-align: middle;\n",
       "    }\n",
       "\n",
       "    .dataframe tbody tr th {\n",
       "        vertical-align: top;\n",
       "    }\n",
       "\n",
       "    .dataframe thead th {\n",
       "        text-align: right;\n",
       "    }\n",
       "</style>\n",
       "<table border=\"1\" class=\"dataframe\">\n",
       "  <thead>\n",
       "    <tr style=\"text-align: right;\">\n",
       "      <th></th>\n",
       "      <th>event</th>\n",
       "      <th>person</th>\n",
       "      <th>time</th>\n",
       "      <th>value</th>\n",
       "    </tr>\n",
       "  </thead>\n",
       "  <tbody>\n",
       "    <tr>\n",
       "      <th>0</th>\n",
       "      <td>offer received</td>\n",
       "      <td>78afa995795e4d85b5d9ceeca43f5fef</td>\n",
       "      <td>0</td>\n",
       "      <td>{'offer id': '9b98b8c7a33c4b65b9aebfe6a799e6d9'}</td>\n",
       "    </tr>\n",
       "    <tr>\n",
       "      <th>1</th>\n",
       "      <td>offer received</td>\n",
       "      <td>a03223e636434f42ac4c3df47e8bac43</td>\n",
       "      <td>0</td>\n",
       "      <td>{'offer id': '0b1e1539f2cc45b7b9fa7c272da2e1d7'}</td>\n",
       "    </tr>\n",
       "  </tbody>\n",
       "</table>\n",
       "</div>"
      ],
      "text/plain": [
       "            event                            person  time  \\\n",
       "0  offer received  78afa995795e4d85b5d9ceeca43f5fef     0   \n",
       "1  offer received  a03223e636434f42ac4c3df47e8bac43     0   \n",
       "\n",
       "                                              value  \n",
       "0  {'offer id': '9b98b8c7a33c4b65b9aebfe6a799e6d9'}  \n",
       "1  {'offer id': '0b1e1539f2cc45b7b9fa7c272da2e1d7'}  "
      ]
     },
     "execution_count": 17,
     "metadata": {},
     "output_type": "execute_result"
    }
   ],
   "source": [
    "# observe dataset transcript\n",
    "df_transcript.head(2)"
   ]
  },
  {
   "cell_type": "code",
   "execution_count": 18,
   "metadata": {},
   "outputs": [
    {
     "name": "stdout",
     "output_type": "stream",
     "text": [
      "<class 'pandas.core.frame.DataFrame'>\n",
      "RangeIndex: 306534 entries, 0 to 306533\n",
      "Data columns (total 4 columns):\n",
      "event     306534 non-null object\n",
      "person    306534 non-null object\n",
      "time      306534 non-null int64\n",
      "value     306534 non-null object\n",
      "dtypes: int64(1), object(3)\n",
      "memory usage: 9.4+ MB\n"
     ]
    }
   ],
   "source": [
    "df_transcript.info()"
   ]
  },
  {
   "cell_type": "code",
   "execution_count": 19,
   "metadata": {},
   "outputs": [
    {
     "data": {
      "image/png": "[encoded data removed]",
      "text/plain": [
       "<matplotlib.figure.Figure at 0x7f5e2a52ecc0>"
      ]
     },
     "metadata": {},
     "output_type": "display_data"
    }
   ],
   "source": [
    "df_por_event=df_transcript.groupby('event').count()\n",
    "fig=plt.figure()\n",
    "labels=df_transcript.event.unique().tolist()\n",
    "values=df_por_event['person'].tolist()\n",
    "plt.pie(values,labels=labels,startangle=90,shadow=False,autopct='%1.0f%%')\n",
    "plt.title('Transcript events types percentage')\n",
    "plt.show()"
   ]
  },
  {
   "cell_type": "markdown",
   "metadata": {},
   "source": [
    "Step2 - 准备训练数据"
   ]
  },
  {
   "cell_type": "code",
   "execution_count": 20,
   "metadata": {},
   "outputs": [],
   "source": [
    "# Target customer: 收到推送，并在有效期内看到，消费的顾客\n",
    "# merge df_profile with view_event, find customer who viewed offers\n",
    "view_event = df_transcript[df_transcript['event']=='offer viewed']\n",
    "view_event_addid = view_event.copy()\n",
    "view_event_addid.loc[:,'offer_id'] = view_event['value'].apply(lambda x: x.get('offer id'))\n",
    "view_event_addid.drop(columns=['value','event'],inplace=True)\n",
    "df_profile.rename(columns={'id':'person'},inplace=True)\n",
    "viewed_profile_customer = pd.merge(df_profile, view_event_addid, how='right',on='person')\n",
    "viewed_customer_list = viewed_profile_customer[['person']]\n"
   ]
  },
  {
   "cell_type": "code",
   "execution_count": 25,
   "metadata": {},
   "outputs": [],
   "source": [
    "df_portfolio.rename(columns={'id':'offer_id'},inplace=True)\n",
    "viewed_profile_customer.rename(columns={'time':'offer_view_time'},inplace=True)\n",
    "viewed_profile_customer_addoffer = pd.merge(viewed_profile_customer,df_portfolio,how='inner',on='offer_id')"
   ]
  },
  {
   "cell_type": "code",
   "execution_count": 30,
   "metadata": {},
   "outputs": [
    {
     "data": {
      "text/plain": [
       "age                 49860\n",
       "became_member_on    49860\n",
       "gender              49860\n",
       "person              49860\n",
       "income              49860\n",
       "member_days         49860\n",
       "offer_view_time     49860\n",
       "offer_id            49860\n",
       "channels            49860\n",
       "difficulty          49860\n",
       "duration            49860\n",
       "offer_type          49860\n",
       "reward              49860\n",
       "dtype: int64"
      ]
     },
     "execution_count": 30,
     "metadata": {},
     "output_type": "execute_result"
    }
   ],
   "source": [
    "viewed_profile_customer_addoffer.dropna(inplace=True)\n",
    "viewed_profile_customer_addoffer.count()"
   ]
  },
  {
   "cell_type": "code",
   "execution_count": 31,
   "metadata": {},
   "outputs": [
    {
     "data": {
      "text/html": [
       "<div>\n",
       "<style scoped>\n",
       "    .dataframe tbody tr th:only-of-type {\n",
       "        vertical-align: middle;\n",
       "    }\n",
       "\n",
       "    .dataframe tbody tr th {\n",
       "        vertical-align: top;\n",
       "    }\n",
       "\n",
       "    .dataframe thead th {\n",
       "        text-align: right;\n",
       "    }\n",
       "</style>\n",
       "<table border=\"1\" class=\"dataframe\">\n",
       "  <thead>\n",
       "    <tr style=\"text-align: right;\">\n",
       "      <th></th>\n",
       "      <th>age</th>\n",
       "      <th>became_member_on</th>\n",
       "      <th>gender</th>\n",
       "      <th>person</th>\n",
       "      <th>income</th>\n",
       "      <th>member_days</th>\n",
       "      <th>offer_view_time</th>\n",
       "      <th>offer_id</th>\n",
       "      <th>channels</th>\n",
       "      <th>difficulty</th>\n",
       "      <th>duration</th>\n",
       "      <th>offer_type</th>\n",
       "      <th>reward</th>\n",
       "    </tr>\n",
       "  </thead>\n",
       "  <tbody>\n",
       "    <tr>\n",
       "      <th>0</th>\n",
       "      <td>1.0</td>\n",
       "      <td>2017-05-09</td>\n",
       "      <td>F</td>\n",
       "      <td>78afa995795e4d85b5d9ceeca43f5fef</td>\n",
       "      <td>100000.0</td>\n",
       "      <td>1168.0</td>\n",
       "      <td>6</td>\n",
       "      <td>9b98b8c7a33c4b65b9aebfe6a799e6d9</td>\n",
       "      <td>[web, email, mobile]</td>\n",
       "      <td>5</td>\n",
       "      <td>7</td>\n",
       "      <td>bogo</td>\n",
       "      <td>5</td>\n",
       "    </tr>\n",
       "    <tr>\n",
       "      <th>1</th>\n",
       "      <td>1.0</td>\n",
       "      <td>2018-04-26</td>\n",
       "      <td>M</td>\n",
       "      <td>e2127556f4f64592b11af22de27a7932</td>\n",
       "      <td>70000.0</td>\n",
       "      <td>816.0</td>\n",
       "      <td>420</td>\n",
       "      <td>9b98b8c7a33c4b65b9aebfe6a799e6d9</td>\n",
       "      <td>[web, email, mobile]</td>\n",
       "      <td>5</td>\n",
       "      <td>7</td>\n",
       "      <td>bogo</td>\n",
       "      <td>5</td>\n",
       "    </tr>\n",
       "  </tbody>\n",
       "</table>\n",
       "</div>"
      ],
      "text/plain": [
       "   age became_member_on gender                            person    income  \\\n",
       "0  1.0       2017-05-09      F  78afa995795e4d85b5d9ceeca43f5fef  100000.0   \n",
       "1  1.0       2018-04-26      M  e2127556f4f64592b11af22de27a7932   70000.0   \n",
       "\n",
       "   member_days  offer_view_time                          offer_id  \\\n",
       "0       1168.0                6  9b98b8c7a33c4b65b9aebfe6a799e6d9   \n",
       "1        816.0              420  9b98b8c7a33c4b65b9aebfe6a799e6d9   \n",
       "\n",
       "               channels  difficulty  duration offer_type  reward  \n",
       "0  [web, email, mobile]           5         7       bogo       5  \n",
       "1  [web, email, mobile]           5         7       bogo       5  "
      ]
     },
     "execution_count": 31,
     "metadata": {},
     "output_type": "execute_result"
    }
   ],
   "source": [
    "viewed_profile_customer_addoffer.head(2)"
   ]
  },
  {
   "cell_type": "code",
   "execution_count": 41,
   "metadata": {},
   "outputs": [],
   "source": [
    "# Merge transaction event data with viewd_customer, to find the customer who viewd offers an made transacton too\n",
    "trans_event = df_transcript[df_transcript['event']=='transaction']\n",
    "trans_event_addamount = trans_event.copy()\n",
    "trans_event_addamount.loc[:,'amount'] = trans_event_addamount['value'].apply(lambda x: x.get('amount'))\n",
    "trans_event_addamount.rename(columns={'time':'trans_time'},inplace=True)\n",
    "viewed_trans_customer = pd.merge(trans_event_addamount, viewed_profile_customer_addoffer, how='right', on='person')\n",
    "viewed_trans_customer.drop(columns=['value','event'],inplace=True)"
   ]
  },
  {
   "cell_type": "code",
   "execution_count": 46,
   "metadata": {},
   "outputs": [
    {
     "data": {
      "text/html": [
       "<div>\n",
       "<style scoped>\n",
       "    .dataframe tbody tr th:only-of-type {\n",
       "        vertical-align: middle;\n",
       "    }\n",
       "\n",
       "    .dataframe tbody tr th {\n",
       "        vertical-align: top;\n",
       "    }\n",
       "\n",
       "    .dataframe thead th {\n",
       "        text-align: right;\n",
       "    }\n",
       "</style>\n",
       "<table border=\"1\" class=\"dataframe\">\n",
       "  <thead>\n",
       "    <tr style=\"text-align: right;\">\n",
       "      <th></th>\n",
       "      <th>person</th>\n",
       "      <th>trans_time</th>\n",
       "      <th>amount</th>\n",
       "      <th>age</th>\n",
       "      <th>became_member_on</th>\n",
       "      <th>gender</th>\n",
       "      <th>income</th>\n",
       "      <th>member_days</th>\n",
       "      <th>offer_view_time</th>\n",
       "      <th>offer_id</th>\n",
       "      <th>channels</th>\n",
       "      <th>difficulty</th>\n",
       "      <th>duration</th>\n",
       "      <th>offer_type</th>\n",
       "      <th>reward</th>\n",
       "    </tr>\n",
       "  </thead>\n",
       "  <tbody>\n",
       "    <tr>\n",
       "      <th>0</th>\n",
       "      <td>02c083884c7d45b39cc68e1314fec56c</td>\n",
       "      <td>0.0</td>\n",
       "      <td>0.83</td>\n",
       "      <td>1.0</td>\n",
       "      <td>2016-07-11</td>\n",
       "      <td>F</td>\n",
       "      <td>30000.0</td>\n",
       "      <td>1470.0</td>\n",
       "      <td>0</td>\n",
       "      <td>ae264e3637204a6fb9bb56bc8210ddfd</td>\n",
       "      <td>[email, mobile, social]</td>\n",
       "      <td>10</td>\n",
       "      <td>7</td>\n",
       "      <td>bogo</td>\n",
       "      <td>10</td>\n",
       "    </tr>\n",
       "    <tr>\n",
       "      <th>1</th>\n",
       "      <td>02c083884c7d45b39cc68e1314fec56c</td>\n",
       "      <td>6.0</td>\n",
       "      <td>1.44</td>\n",
       "      <td>1.0</td>\n",
       "      <td>2016-07-11</td>\n",
       "      <td>F</td>\n",
       "      <td>30000.0</td>\n",
       "      <td>1470.0</td>\n",
       "      <td>0</td>\n",
       "      <td>ae264e3637204a6fb9bb56bc8210ddfd</td>\n",
       "      <td>[email, mobile, social]</td>\n",
       "      <td>10</td>\n",
       "      <td>7</td>\n",
       "      <td>bogo</td>\n",
       "      <td>10</td>\n",
       "    </tr>\n",
       "  </tbody>\n",
       "</table>\n",
       "</div>"
      ],
      "text/plain": [
       "                             person  trans_time  amount  age became_member_on  \\\n",
       "0  02c083884c7d45b39cc68e1314fec56c         0.0    0.83  1.0       2016-07-11   \n",
       "1  02c083884c7d45b39cc68e1314fec56c         6.0    1.44  1.0       2016-07-11   \n",
       "\n",
       "  gender   income  member_days  offer_view_time  \\\n",
       "0      F  30000.0       1470.0                0   \n",
       "1      F  30000.0       1470.0                0   \n",
       "\n",
       "                           offer_id                 channels  difficulty  \\\n",
       "0  ae264e3637204a6fb9bb56bc8210ddfd  [email, mobile, social]          10   \n",
       "1  ae264e3637204a6fb9bb56bc8210ddfd  [email, mobile, social]          10   \n",
       "\n",
       "   duration offer_type  reward  \n",
       "0         7       bogo      10  \n",
       "1         7       bogo      10  "
      ]
     },
     "execution_count": 46,
     "metadata": {},
     "output_type": "execute_result"
    }
   ],
   "source": [
    "viewed_trans_customer.head(2)"
   ]
  },
  {
   "cell_type": "code",
   "execution_count": 48,
   "metadata": {},
   "outputs": [
    {
     "name": "stdout",
     "output_type": "stream",
     "text": [
      "<class 'pandas.core.frame.DataFrame'>\n",
      "Int64Index: 438546 entries, 0 to 438545\n",
      "Data columns (total 15 columns):\n",
      "person              438546 non-null object\n",
      "trans_time          437410 non-null float64\n",
      "amount              437410 non-null float64\n",
      "age                 438546 non-null float64\n",
      "became_member_on    438546 non-null datetime64[ns]\n",
      "gender              438546 non-null object\n",
      "income              438546 non-null float64\n",
      "member_days         438546 non-null float64\n",
      "offer_view_time     438546 non-null int64\n",
      "offer_id            438546 non-null object\n",
      "channels            438546 non-null object\n",
      "difficulty          438546 non-null int64\n",
      "duration            438546 non-null int64\n",
      "offer_type          438546 non-null object\n",
      "reward              438546 non-null int64\n",
      "dtypes: datetime64[ns](1), float64(5), int64(4), object(5)\n",
      "memory usage: 53.5+ MB\n"
     ]
    }
   ],
   "source": [
    "viewed_trans_customer.info()"
   ]
  },
  {
   "cell_type": "code",
   "execution_count": 91,
   "metadata": {},
   "outputs": [],
   "source": [
    "selected_customer_trans = viewed_trans_customer[['person','age','gender','income','member_days','offer_type','offer_view_time','duration','trans_time']]\n"
   ]
  },
  {
   "cell_type": "code",
   "execution_count": 92,
   "metadata": {},
   "outputs": [
    {
     "name": "stdout",
     "output_type": "stream",
     "text": [
      "<class 'pandas.core.frame.DataFrame'>\n",
      "Int64Index: 438546 entries, 0 to 438545\n",
      "Data columns (total 9 columns):\n",
      "person             438546 non-null object\n",
      "age                438546 non-null float64\n",
      "gender             438546 non-null object\n",
      "income             438546 non-null float64\n",
      "member_days        438546 non-null float64\n",
      "offer_type         438546 non-null object\n",
      "offer_view_time    438546 non-null int64\n",
      "duration           438546 non-null int64\n",
      "trans_time         437410 non-null float64\n",
      "dtypes: float64(4), int64(2), object(3)\n",
      "memory usage: 33.5+ MB\n"
     ]
    }
   ],
   "source": [
    "selected_customer_trans.info()"
   ]
  },
  {
   "cell_type": "code",
   "execution_count": 93,
   "metadata": {},
   "outputs": [
    {
     "data": {
      "text/html": [
       "<div>\n",
       "<style scoped>\n",
       "    .dataframe tbody tr th:only-of-type {\n",
       "        vertical-align: middle;\n",
       "    }\n",
       "\n",
       "    .dataframe tbody tr th {\n",
       "        vertical-align: top;\n",
       "    }\n",
       "\n",
       "    .dataframe thead th {\n",
       "        text-align: right;\n",
       "    }\n",
       "</style>\n",
       "<table border=\"1\" class=\"dataframe\">\n",
       "  <thead>\n",
       "    <tr style=\"text-align: right;\">\n",
       "      <th></th>\n",
       "      <th>age</th>\n",
       "      <th>income</th>\n",
       "      <th>member_days</th>\n",
       "      <th>offer_view_time</th>\n",
       "      <th>duration</th>\n",
       "      <th>trans_time</th>\n",
       "    </tr>\n",
       "  </thead>\n",
       "  <tbody>\n",
       "    <tr>\n",
       "      <th>count</th>\n",
       "      <td>438546.0</td>\n",
       "      <td>438546.000000</td>\n",
       "      <td>438546.000000</td>\n",
       "      <td>438546.000000</td>\n",
       "      <td>438546.000000</td>\n",
       "      <td>437410.000000</td>\n",
       "    </tr>\n",
       "    <tr>\n",
       "      <th>mean</th>\n",
       "      <td>1.0</td>\n",
       "      <td>62253.318922</td>\n",
       "      <td>1358.785564</td>\n",
       "      <td>352.204882</td>\n",
       "      <td>6.382525</td>\n",
       "      <td>380.635893</td>\n",
       "    </tr>\n",
       "    <tr>\n",
       "      <th>std</th>\n",
       "      <td>0.0</td>\n",
       "      <td>20346.994337</td>\n",
       "      <td>435.428619</td>\n",
       "      <td>199.819736</td>\n",
       "      <td>2.146977</td>\n",
       "      <td>201.669829</td>\n",
       "    </tr>\n",
       "    <tr>\n",
       "      <th>min</th>\n",
       "      <td>1.0</td>\n",
       "      <td>30000.000000</td>\n",
       "      <td>725.000000</td>\n",
       "      <td>0.000000</td>\n",
       "      <td>3.000000</td>\n",
       "      <td>0.000000</td>\n",
       "    </tr>\n",
       "    <tr>\n",
       "      <th>25%</th>\n",
       "      <td>1.0</td>\n",
       "      <td>47000.000000</td>\n",
       "      <td>1002.000000</td>\n",
       "      <td>180.000000</td>\n",
       "      <td>5.000000</td>\n",
       "      <td>210.000000</td>\n",
       "    </tr>\n",
       "    <tr>\n",
       "      <th>50%</th>\n",
       "      <td>1.0</td>\n",
       "      <td>60000.000000</td>\n",
       "      <td>1281.000000</td>\n",
       "      <td>396.000000</td>\n",
       "      <td>7.000000</td>\n",
       "      <td>402.000000</td>\n",
       "    </tr>\n",
       "    <tr>\n",
       "      <th>75%</th>\n",
       "      <td>1.0</td>\n",
       "      <td>74000.000000</td>\n",
       "      <td>1640.000000</td>\n",
       "      <td>516.000000</td>\n",
       "      <td>7.000000</td>\n",
       "      <td>552.000000</td>\n",
       "    </tr>\n",
       "    <tr>\n",
       "      <th>max</th>\n",
       "      <td>1.0</td>\n",
       "      <td>120000.000000</td>\n",
       "      <td>2548.000000</td>\n",
       "      <td>714.000000</td>\n",
       "      <td>10.000000</td>\n",
       "      <td>714.000000</td>\n",
       "    </tr>\n",
       "  </tbody>\n",
       "</table>\n",
       "</div>"
      ],
      "text/plain": [
       "            age         income    member_days  offer_view_time       duration  \\\n",
       "count  438546.0  438546.000000  438546.000000    438546.000000  438546.000000   \n",
       "mean        1.0   62253.318922    1358.785564       352.204882       6.382525   \n",
       "std         0.0   20346.994337     435.428619       199.819736       2.146977   \n",
       "min         1.0   30000.000000     725.000000         0.000000       3.000000   \n",
       "25%         1.0   47000.000000    1002.000000       180.000000       5.000000   \n",
       "50%         1.0   60000.000000    1281.000000       396.000000       7.000000   \n",
       "75%         1.0   74000.000000    1640.000000       516.000000       7.000000   \n",
       "max         1.0  120000.000000    2548.000000       714.000000      10.000000   \n",
       "\n",
       "          trans_time  \n",
       "count  437410.000000  \n",
       "mean      380.635893  \n",
       "std       201.669829  \n",
       "min         0.000000  \n",
       "25%       210.000000  \n",
       "50%       402.000000  \n",
       "75%       552.000000  \n",
       "max       714.000000  "
      ]
     },
     "execution_count": 93,
     "metadata": {},
     "output_type": "execute_result"
    }
   ],
   "source": [
    "selected_customer_trans.describe()"
   ]
  },
  {
   "cell_type": "code",
   "execution_count": 112,
   "metadata": {},
   "outputs": [],
   "source": [
    "# 筛选出transition发生在看到offer后，并在offer期限内的目标用户\n",
    "selected_customer_trans_add_lable = selected_customer_trans.copy()\n",
    "selected_customer_trans_add_lable.loc[:,'target_customer'] = np.where(selected_customer_trans['trans_time']<(selected_customer_trans['offer_view_time']+selected_customer_trans['duration']*24),'yes','no')"
   ]
  },
  {
   "cell_type": "code",
   "execution_count": 113,
   "metadata": {},
   "outputs": [
    {
     "name": "stdout",
     "output_type": "stream",
     "text": [
      "<class 'pandas.core.frame.DataFrame'>\n",
      "Int64Index: 438546 entries, 0 to 438545\n",
      "Data columns (total 7 columns):\n",
      "person             438546 non-null object\n",
      "age                438546 non-null float64\n",
      "gender             438546 non-null object\n",
      "income             438546 non-null float64\n",
      "member_days        438546 non-null float64\n",
      "offer_type         438546 non-null object\n",
      "target_customer    438546 non-null object\n",
      "dtypes: float64(3), object(4)\n",
      "memory usage: 26.8+ MB\n"
     ]
    }
   ],
   "source": [
    "# 保留需要的person数据，offer类型和是否是target customer的标签作为后一步机器学习的数据\n",
    "prepared_dataset = selected_customer_trans_add_lable.drop(['offer_view_time', 'duration','trans_time'], axis=1)\n",
    "prepared_dataset.info()"
   ]
  },
  {
   "cell_type": "code",
   "execution_count": 114,
   "metadata": {},
   "outputs": [
    {
     "name": "stdout",
     "output_type": "stream",
     "text": [
      "<class 'pandas.core.frame.DataFrame'>\n",
      "Int64Index: 438546 entries, 0 to 438545\n",
      "Data columns (total 11 columns):\n",
      "person                      438546 non-null object\n",
      "age                         438546 non-null float64\n",
      "income                      438546 non-null float64\n",
      "member_days                 438546 non-null float64\n",
      "offer_type_bogo             438546 non-null uint8\n",
      "offer_type_discount         438546 non-null uint8\n",
      "offer_type_informational    438546 non-null uint8\n",
      "gender_F                    438546 non-null uint8\n",
      "gender_M                    438546 non-null uint8\n",
      "target_customer_no          438546 non-null uint8\n",
      "target_customer_yes         438546 non-null uint8\n",
      "dtypes: float64(3), object(1), uint8(7)\n",
      "memory usage: 19.7+ MB\n"
     ]
    }
   ],
   "source": [
    "prepared_dataset_dummy = pd.get_dummies(prepared_dataset, dummy_na=False, columns=['offer_type','gender','target_customer'],drop_first=False).drop(['gender_O'],axis=1)\n",
    "prepared_dataset_dummy.info()\n"
   ]
  },
  {
   "cell_type": "markdown",
   "metadata": {},
   "source": [
    "Step3 - 搭建，训练，评估模型"
   ]
  },
  {
   "cell_type": "code",
   "execution_count": 116,
   "metadata": {},
   "outputs": [],
   "source": [
    "#分类器：对有一系列特征的客户推送某类型的offer是否有效\n",
    "from sklearn.tree import DecisionTreeClassifier\n",
    "from sklearn.neighbors import KNeighborsClassifier\n",
    "from sklearn.svm import SVC\n",
    "from sklearn.ensemble import RandomForestClassifier\n",
    "from sklearn.model_selection import train_test_split\n",
    "from sklearn.metrics import classification_report\n",
    "\n",
    "#划分训练集与测试集，测试集的比例为10%\n",
    "X=prepared_dataset_dummy.drop(columns=['person','target_customer_no','target_customer_yes'],inplace=False)\n",
    "Y=prepared_dataset_dummy[['target_customer_no','target_customer_yes']]\n",
    "X_train, X_test, Y_train, Y_test = train_test_split(X, Y,test_size=0.10)"
   ]
  },
  {
   "cell_type": "code",
   "execution_count": 118,
   "metadata": {},
   "outputs": [
    {
     "name": "stdout",
     "output_type": "stream",
     "text": [
      "                     precision    recall  f1-score   support\n",
      "\n",
      " target_customer_no       0.37      0.90      0.53     13759\n",
      "target_customer_yes       0.87      0.31      0.46     30096\n",
      "\n",
      "        avg / total       0.72      0.50      0.48     43855\n",
      "\n"
     ]
    }
   ],
   "source": [
    "#训练模型\n",
    "model=RandomForestClassifier(n_estimators=500,n_jobs=2,oob_score=True,\n",
    "                             min_samples_split=50,class_weight='balanced')\n",
    "\n",
    "model.fit(X_train,Y_train)\n",
    "Y_pred = model.predict(X_test)\n",
    "target_names = list(Y_test.columns)\n",
    "df_Y_pred=pd.DataFrame(Y_pred,columns=list(Y_test.columns))\n",
    "\n",
    "#分析报告\n",
    "print(classification_report(Y_test, Y_pred, target_names=list(Y_test.columns)))"
   ]
  },
  {
   "cell_type": "markdown",
   "metadata": {},
   "source": [
    "Step4 - 报告总结"
   ]
  },
  {
   "cell_type": "markdown",
   "metadata": {},
   "source": [
    "项目利用随机森林，把目标客户的性别，收入，年龄，成为会员的天数，以及被推送的类型作为输入\n",
    "将是否在收到推送后采取了购买行为作为预测目标。\n",
    "模型结果在数据增多后应该能有进一步的提高。"
   ]
  },
  {
   "cell_type": "code",
   "execution_count": null,
   "metadata": {},
   "outputs": [],
   "source": [
    "from subprocess import call\n",
    "call(['python', '-m', 'nbconvert', 'Starbucks_Capstone_notebook-zh.ipynb'])"
   ]
  }
 ],
 "metadata": {
  "kernelspec": {
   "display_name": "Python 3",
   "language": "python",
   "name": "python3"
  },
  "language_info": {
   "codemirror_mode": {
    "name": "ipython",
    "version": 3
   },
   "file_extension": ".py",
   "mimetype": "text/x-python",
   "name": "python",
   "nbconvert_exporter": "python",
   "pygments_lexer": "ipython3",
   "version": "3.6.3"
  }
 },
 "nbformat": 4,
 "nbformat_minor": 2
}
